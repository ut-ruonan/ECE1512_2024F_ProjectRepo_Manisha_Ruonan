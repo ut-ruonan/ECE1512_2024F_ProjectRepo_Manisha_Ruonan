{
 "cells": [
  {
   "cell_type": "markdown",
   "source": [
    "#### Split MHIST data to training and testing datasets\n"
   ],
   "metadata": {
    "collapsed": false
   },
   "id": "b4ccca1dd339bab"
  },
  {
   "cell_type": "code",
   "outputs": [],
   "source": [
    "import pandas as pd \n",
    "import shutil \n",
    "import os \n",
    "\n",
    "annotations = pd.read_csv('mhist_dataset/annotations.csv')\n",
    "\n",
    "img_folder = 'mhist_dataset/images'\n",
    "train_folder = 'mhist_dataset/train/'\n",
    "test_folder = 'mhist_dataset/test/'"
   ],
   "metadata": {
    "collapsed": false
   },
   "id": "64c64ea1c20f3ce1"
  },
  {
   "cell_type": "code",
   "outputs": [],
   "source": [
    "os.makedirs(train_folder, exist_ok=True)\n",
    "os.makedirs(test_folder, exist_ok=True)\n",
    "\n",
    "for index, row in annotations.iterrows():\n",
    "    img_name = row['Image Name']\n",
    "    partition = row['Partition']\n",
    "    \n",
    "    src_path = os.path.join(img_folder, img_name)\n",
    "    if partition == 'train':\n",
    "        dst_path = os.path.join(train_folder, img_name)\n",
    "    else:\n",
    "        dst_path = os.path.join(test_folder, img_name)\n",
    "    \n",
    "    shutil.copy(src_path, dst_path)\n",
    "\n",
    "print(\"Images have been successfully moved\")"
   ],
   "metadata": {
    "collapsed": false
   },
   "id": "52f2bdc57ea5ce05"
  },
  {
   "cell_type": "code",
   "outputs": [],
   "source": [
    "actual_train_count = len(os.listdir(train_folder))\n",
    "actual_test_count = len(os.listdir(test_folder))\n",
    "\n",
    "expected_train_count = len(annotations[annotations['Partition'] == 'train'])\n",
    "expected_test_count = len(annotations[annotations['Partition'] == 'test'])\n",
    "\n",
    "if actual_train_count == expected_train_count and actual_test_count == expected_test_count:\n",
    "    print(\"All files have been moved correctly and counts match!\")\n",
    "else:\n",
    "    print(\"Warning: There is a mismatch between the files moved and the expected count!\")"
   ],
   "metadata": {
    "collapsed": false
   },
   "id": "361e6350dbad33de"
  },
  {
   "cell_type": "markdown",
   "source": [
    "#### Unzip MNIST dataset"
   ],
   "metadata": {
    "collapsed": false
   },
   "id": "ba42150796f53f4f"
  },
  {
   "cell_type": "code",
   "outputs": [],
   "source": [
    "import os \n",
    "import gzip \n",
    "import shutil\n",
    "\n",
    "dataset_dir = 'mnist_dataset/MNIST/raw'\n",
    "dataset_dest = 'mnist_dataset/MNIST/images'\n",
    "\n",
    "os.makedirs(dataset_dest, exist_ok=True)\n",
    "files_to_unzip = [f for f in os.listdir(dataset_dir) if f.endswith('.gz')]\n",
    "\n",
    "for file in files_to_unzip:\n",
    "    gz_path =os.path.join(dataset_dir, file)\n",
    "    unzipped_path = os.path.join(dataset_dest, file[:-3])\n",
    "    \n",
    "    with gzip.open(gz_path, 'rb') as f_in:\n",
    "        with open(unzipped_path, 'wb') as f_out:\n",
    "            shutil.copyfileobj(f_in, f_out)"
   ],
   "metadata": {
    "collapsed": false
   },
   "id": "c8499cabd4a5395c"
  }
 ],
 "metadata": {
  "kernelspec": {
   "display_name": "Python 3",
   "language": "python",
   "name": "python3"
  },
  "language_info": {
   "codemirror_mode": {
    "name": "ipython",
    "version": 2
   },
   "file_extension": ".py",
   "mimetype": "text/x-python",
   "name": "python",
   "nbconvert_exporter": "python",
   "pygments_lexer": "ipython2",
   "version": "2.7.6"
  }
 },
 "nbformat": 4,
 "nbformat_minor": 5
}
