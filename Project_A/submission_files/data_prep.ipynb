{
 "cells": [
  {
   "cell_type": "markdown",
   "source": [
    "#### Split MHIST data to training and testing datasets\n"
   ],
   "metadata": {
    "collapsed": false
   },
   "id": "b4ccca1dd339bab"
  },
  {
   "cell_type": "code",
   "outputs": [],
   "source": [
    "import pandas as pd \n",
    "import shutil \n",
    "import os \n",
    "\n",
    "annotations = pd.read_csv('mhist_dataset/annotations.csv')\n",
    "\n",
    "img_folder = 'mhist_dataset/images'\n",
    "train_folder = 'mhist_dataset/train/'\n",
    "test_folder = 'mhist_dataset/test/'"
   ],
   "metadata": {
    "collapsed": false,
    "ExecuteTime": {
     "end_time": "2024-10-17T00:53:17.312867Z",
     "start_time": "2024-10-17T00:53:17.304761Z"
    }
   },
   "id": "64c64ea1c20f3ce1",
   "execution_count": 8
  },
  {
   "cell_type": "code",
   "outputs": [],
   "source": [
    "os.makedirs(train_folder, exist_ok=True)\n",
    "os.makedirs(test_folder, exist_ok=True)\n",
    "\n",
    "for class_label in annotations['Majority Vote Label'].unique():\n",
    "    os.makedirs(os.path.join(train_folder, class_label), exist_ok=True)\n",
    "    os.makedirs(os.path.join(test_folder, class_label), exist_ok=True)"
   ],
   "metadata": {
    "collapsed": false,
    "ExecuteTime": {
     "end_time": "2024-10-17T00:53:46.819310Z",
     "start_time": "2024-10-17T00:53:46.808474Z"
    }
   },
   "id": "52f2bdc57ea5ce05",
   "execution_count": 11
  },
  {
   "cell_type": "code",
   "outputs": [
    {
     "name": "stdout",
     "output_type": "stream",
     "text": [
      "Images have been successfully moved\n"
     ]
    }
   ],
   "source": [
    "for index, row in annotations.iterrows():\n",
    "    img_name = row['Image Name']\n",
    "    partition = row['Partition']\n",
    "    class_label = row['Majority Vote Label']\n",
    "    \n",
    "    src_path = os.path.join(img_folder, img_name)\n",
    "    if partition == 'train':\n",
    "        dst_path = os.path.join(train_folder, class_label, img_name)\n",
    "    else:\n",
    "        dst_path = os.path.join(test_folder, class_label, img_name)\n",
    "    \n",
    "    shutil.copy(src_path, dst_path)\n",
    "\n",
    "print(\"Images have been successfully moved\")"
   ],
   "metadata": {
    "collapsed": false,
    "ExecuteTime": {
     "end_time": "2024-10-17T00:53:53.338486Z",
     "start_time": "2024-10-17T00:53:48.957517Z"
    }
   },
   "id": "6f9f5c53ad9603d8",
   "execution_count": 12
  },
  {
   "cell_type": "markdown",
   "source": [
    "#### Unzip MNIST dataset"
   ],
   "metadata": {
    "collapsed": false
   },
   "id": "ba42150796f53f4f"
  },
  {
   "cell_type": "code",
   "outputs": [],
   "source": [
    "import os \n",
    "import gzip \n",
    "import shutil\n",
    "\n",
    "dataset_dir = 'mnist_dataset/MNIST/raw'\n",
    "dataset_dest = 'mnist_dataset/MNIST/images'\n",
    "\n",
    "os.makedirs(dataset_dest, exist_ok=True)\n",
    "files_to_unzip = [f for f in os.listdir(dataset_dir) if f.endswith('.gz')]\n",
    "\n",
    "for file in files_to_unzip:\n",
    "    gz_path =os.path.join(dataset_dir, file)\n",
    "    unzipped_path = os.path.join(dataset_dest, file[:-3])\n",
    "    \n",
    "    with gzip.open(gz_path, 'rb') as f_in:\n",
    "        with open(unzipped_path, 'wb') as f_out:\n",
    "            shutil.copyfileobj(f_in, f_out)"
   ],
   "metadata": {
    "collapsed": false,
    "ExecuteTime": {
     "end_time": "2024-10-17T00:44:29.690091Z",
     "start_time": "2024-10-17T00:44:29.340719Z"
    }
   },
   "id": "c8499cabd4a5395c",
   "execution_count": 5
  }
 ],
 "metadata": {
  "kernelspec": {
   "name": "myenv",
   "language": "python",
   "display_name": "Python (myenv)"
  },
  "language_info": {
   "codemirror_mode": {
    "name": "ipython",
    "version": 2
   },
   "file_extension": ".py",
   "mimetype": "text/x-python",
   "name": "python",
   "nbconvert_exporter": "python",
   "pygments_lexer": "ipython2",
   "version": "2.7.6"
  }
 },
 "nbformat": 4,
 "nbformat_minor": 5
}
