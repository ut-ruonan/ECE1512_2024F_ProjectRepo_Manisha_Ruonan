{
 "cells": [
  {
   "cell_type": "markdown",
   "source": [
    "#### Split MHIST data to training and testing datasets\n"
   ],
   "metadata": {
    "collapsed": false
   },
   "id": "b4ccca1dd339bab"
  },
  {
   "cell_type": "code",
   "outputs": [],
   "source": [
    "import pandas as pd \n",
    "import shutil \n",
    "import os \n",
    "\n",
    "annotations = pd.read_csv('mhist_dataset/annotations.csv')\n",
    "\n",
    "img_folder = 'mhist_dataset/images'\n",
    "train_folder = 'mhist_dataset/train/'\n",
    "test_folder = 'mhist_dataset/test/'"
   ],
   "metadata": {
    "collapsed": false,
    "ExecuteTime": {
     "end_time": "2024-10-16T22:43:22.955310Z",
     "start_time": "2024-10-16T22:43:22.290188Z"
    }
   },
   "id": "64c64ea1c20f3ce1",
   "execution_count": 1
  },
  {
   "cell_type": "code",
   "outputs": [
    {
     "name": "stdout",
     "output_type": "stream",
     "text": [
      "Images have been successfully moved\n"
     ]
    }
   ],
   "source": [
    "os.makedirs(train_folder, exist_ok=True)\n",
    "os.makedirs(test_folder, exist_ok=True)\n",
    "\n",
    "for index, row in annotations.iterrows():\n",
    "    img_name = row['Image Name']\n",
    "    partition = row['Partition']\n",
    "    \n",
    "    src_path = os.path.join(img_folder, img_name)\n",
    "    if partition == 'train':\n",
    "        dst_path = os.path.join(train_folder, img_name)\n",
    "    else:\n",
    "        dst_path = os.path.join(test_folder, img_name)\n",
    "    \n",
    "    shutil.copy(src_path, dst_path)\n",
    "\n",
    "print(\"Images have been successfully moved\")"
   ],
   "metadata": {
    "collapsed": false,
    "ExecuteTime": {
     "end_time": "2024-10-16T22:43:31.619101Z",
     "start_time": "2024-10-16T22:43:26.967576Z"
    }
   },
   "id": "52f2bdc57ea5ce05",
   "execution_count": 2
  },
  {
   "cell_type": "code",
   "outputs": [
    {
     "name": "stdout",
     "output_type": "stream",
     "text": [
      "All files have been moved correctly and counts match!\n"
     ]
    }
   ],
   "source": [
    "actual_train_count = len(os.listdir(train_folder))\n",
    "actual_test_count = len(os.listdir(test_folder))\n",
    "\n",
    "expected_train_count = len(annotations[annotations['Partition'] == 'train'])\n",
    "expected_test_count = len(annotations[annotations['Partition'] == 'test'])\n",
    "\n",
    "if actual_train_count == expected_train_count and actual_test_count == expected_test_count:\n",
    "    print(\"All files have been moved correctly and counts match!\")\n",
    "else:\n",
    "    print(\"Warning: There is a mismatch between the files moved and the expected count!\")"
   ],
   "metadata": {
    "collapsed": false,
    "ExecuteTime": {
     "end_time": "2024-10-16T22:43:32.457324Z",
     "start_time": "2024-10-16T22:43:32.423692Z"
    }
   },
   "id": "361e6350dbad33de",
   "execution_count": 3
  },
  {
   "cell_type": "markdown",
   "source": [
    "#### Unzip MNIST dataset"
   ],
   "metadata": {
    "collapsed": false
   },
   "id": "ba42150796f53f4f"
  },
  {
   "cell_type": "code",
   "outputs": [],
   "source": [
    "import os \n",
    "import gzip \n",
    "import shutil\n",
    "\n",
    "dataset_dir = 'mnist_dataset/MNIST/raw'\n",
    "dataset_dest = 'mnist_dataset/MNIST/images'\n",
    "\n",
    "os.makedirs(dataset_dest, exist_ok=True)\n",
    "files_to_unzip = [f for f in os.listdir(dataset_dir) if f.endswith('.gz')]\n",
    "\n",
    "for file in files_to_unzip:\n",
    "    gz_path =os.path.join(dataset_dir, file)\n",
    "    unzipped_path = os.path.join(dataset_dest, file[:-3])\n",
    "    \n",
    "    with gzip.open(gz_path, 'rb') as f_in:\n",
    "        with open(unzipped_path, 'wb') as f_out:\n",
    "            shutil.copyfileobj(f_in, f_out)"
   ],
   "metadata": {
    "collapsed": false,
    "ExecuteTime": {
     "end_time": "2024-10-16T22:43:36.358947Z",
     "start_time": "2024-10-16T22:43:35.953389Z"
    }
   },
   "id": "c8499cabd4a5395c",
   "execution_count": 4
  }
 ],
 "metadata": {
  "kernelspec": {
   "display_name": "Python 3",
   "language": "python",
   "name": "python3"
  },
  "language_info": {
   "codemirror_mode": {
    "name": "ipython",
    "version": 2
   },
   "file_extension": ".py",
   "mimetype": "text/x-python",
   "name": "python",
   "nbconvert_exporter": "python",
   "pygments_lexer": "ipython2",
   "version": "2.7.6"
  }
 },
 "nbformat": 4,
 "nbformat_minor": 5
}
